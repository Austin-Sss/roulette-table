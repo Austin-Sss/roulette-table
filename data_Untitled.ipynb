{
  "metadata": {
    "language_info": {
      "codemirror_mode": {
        "name": "python",
        "version": 3
      },
      "file_extension": ".py",
      "mimetype": "text/x-python",
      "name": "python",
      "nbconvert_exporter": "python",
      "pygments_lexer": "ipython3",
      "version": "3.8"
    },
    "kernelspec": {
      "name": "python",
      "display_name": "Python (Pyodide)",
      "language": "python"
    }
  },
  "nbformat_minor": 4,
  "nbformat": 4,
  "cells": [
    {
      "cell_type": "code",
      "source": "# Austin\n\nimport random\n\n# collect user input\n#userinput = int(input('Enter the pocket number(0 - 36): '))\npocket = random.randint(0,37)\n\nuserinput = 5\n\n#place user input into ranges and place with proper color\n\nif pocket in range(0,37):\n    \n    \n#For pockets 1 through 10\n    if pocket in range(1,11):\n        if pocket % 2 ==0:\n            color = \"black\"\n        else:\n            color = \"red\"\n\n#For pockets 11 through 18    \n    elif pocket in range(11,19):\n        if pocket % 2 == 0:\n            color = \"red\"\n        else:\n            color = \"black\"\n    \n\n#For pockets 19 through 28\n    elif pocket in range(19,29):\n        if pocket % 2 ==0:\n            color = \"black\"\n        else:\n            color = \"red\"\n    \n\n#For pockets 29 through 36\n    elif pocket in range(29,37):\n        if pocket % 2 == 0:\n            color = \"red\"\n        else:\n            color = \"black\"\n    \n#The green 0\n    else: \n        color = 'green'\n\n\n    #print the result\n    print(f\"Pocket number {pocket} is {color}\")\n    \n#error message\nelse:\n    print('wrong input')\n\n\nif userinput == pocket:\n    print(f'Your number {userinput} Won!')\nelse:\n    print(f'Your {userinput} lost. :(')",
      "metadata": {
        "trusted": true
      },
      "execution_count": 1,
      "outputs": [
        {
          "name": "stdout",
          "text": "Pocket number 24 is black\nYour 5 lost. :(\n",
          "output_type": "stream"
        }
      ]
    },
    {
      "cell_type": "code",
      "source": "",
      "metadata": {},
      "execution_count": null,
      "outputs": []
    }
  ]
}